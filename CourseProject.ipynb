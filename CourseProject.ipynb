{
  "nbformat": 4,
  "nbformat_minor": 0,
  "metadata": {
    "colab": {
      "provenance": []
    },
    "kernelspec": {
      "name": "python3",
      "display_name": "Python 3"
    },
    "language_info": {
      "name": "python"
    }
  },
  "cells": [
    {
      "cell_type": "markdown",
      "source": [
        "# **Voice Gender Classification Using Neural Networks**"
      ],
      "metadata": {
        "id": "dNCtII5ZtT8J"
      }
    },
    {
      "cell_type": "markdown",
      "source": [
        "Dataset Used: https://www.kaggle.com/datasets/shabareesharyan/voice-dataset"
      ],
      "metadata": {
        "id": "hCm6uqpBtlwS"
      }
    },
    {
      "cell_type": "code",
      "execution_count": 2,
      "metadata": {
        "id": "rmOsC8iOfEl9"
      },
      "outputs": [],
      "source": [
        "import numpy as np\n",
        "import pandas as pd\n",
        "import matplotlib.pyplot as plt\n",
        "from sklearn.preprocessing import LabelEncoder, StandardScaler\n",
        "from sklearn.model_selection import train_test_split\n",
        "import tensorflow as tf"
      ]
    },
    {
      "cell_type": "code",
      "source": [
        "data = pd.read_csv('/content/drive/MyDrive/voice.csv')"
      ],
      "metadata": {
        "id": "V0HtGYUUpcbe"
      },
      "execution_count": 3,
      "outputs": []
    },
    {
      "cell_type": "code",
      "source": [
        "label_encoder = LabelEncoder()\n",
        "data['label'] = label_encoder.fit_transform(data['label'])\n",
        "y = data['label'].copy()\n",
        "X = data.drop('label', axis=1).copy()"
      ],
      "metadata": {
        "id": "TvdCeuWEfSCK"
      },
      "execution_count": 4,
      "outputs": []
    },
    {
      "cell_type": "code",
      "source": [
        "scaler = StandardScaler()\n",
        "X = scaler.fit_transform(X)"
      ],
      "metadata": {
        "id": "Op7oL1CZfcZo"
      },
      "execution_count": 7,
      "outputs": []
    },
    {
      "cell_type": "code",
      "source": [
        "X_train, X_test, y_train, y_test = train_test_split(X, y, train_size=0.7, random_state=42)"
      ],
      "metadata": {
        "id": "XVFegYf7f9Un"
      },
      "execution_count": 8,
      "outputs": []
    },
    {
      "cell_type": "code",
      "source": [
        "inputs = tf.keras.Input(shape=(X.shape[1],))\n",
        "x = tf.keras.layers.Dense(64, activation='relu',\n",
        "kernel_regularizer=tf.keras.regularizers.l2(0.01))(inputs)\n",
        "x = tf.keras.layers.Dropout(0.5)(x)\n",
        "x = tf.keras.layers.Dense(64, activation='relu',\n",
        "kernel_regularizer=tf.keras.regularizers.l2(0.01))(x)\n",
        "x = tf.keras.layers.Dropout(0.5)(x)\n",
        "outputs = tf.keras.layers.Dense(1, activation='sigmoid')(x)\n",
        "model = tf.keras.Model(inputs, outputs)\n",
        "model.summary()"
      ],
      "metadata": {
        "colab": {
          "base_uri": "https://localhost:8080/"
        },
        "id": "mwZkuP7DgB4D",
        "outputId": "540baaf4-f4c8-4c16-ddde-03f32762de2a"
      },
      "execution_count": 10,
      "outputs": [
        {
          "output_type": "stream",
          "name": "stdout",
          "text": [
            "Model: \"model\"\n",
            "_________________________________________________________________\n",
            " Layer (type)                Output Shape              Param #   \n",
            "=================================================================\n",
            " input_2 (InputLayer)        [(None, 20)]              0         \n",
            "                                                                 \n",
            " dense_1 (Dense)             (None, 64)                1344      \n",
            "                                                                 \n",
            " dropout (Dropout)           (None, 64)                0         \n",
            "                                                                 \n",
            " dense_2 (Dense)             (None, 64)                4160      \n",
            "                                                                 \n",
            " dropout_1 (Dropout)         (None, 64)                0         \n",
            "                                                                 \n",
            " dense_3 (Dense)             (None, 1)                 65        \n",
            "                                                                 \n",
            "=================================================================\n",
            "Total params: 5569 (21.75 KB)\n",
            "Trainable params: 5569 (21.75 KB)\n",
            "Non-trainable params: 0 (0.00 Byte)\n",
            "_________________________________________________________________\n"
          ]
        }
      ]
    },
    {
      "cell_type": "code",
      "source": [
        "model.compile(\n",
        " optimizer='adam',\n",
        " loss='binary_crossentropy',\n",
        " metrics=['accuracy', tf.keras.metrics.AUC(name='auc')]\n",
        ")\n",
        "history = model.fit(\n",
        " X_train,\n",
        " y_train,\n",
        " validation_split=0.2,\n",
        " batch_size=32,\n",
        " epochs=100,\n",
        " callbacks=[\n",
        " tf.keras.callbacks.EarlyStopping(\n",
        " monitor='val_loss',\n",
        " patience=3,\n",
        " restore_best_weights=True\n",
        " )\n",
        " ]\n",
        ")\n",
        "test_loss, test_accuracy, test_auc = model.evaluate(X_test, y_test)"
      ],
      "metadata": {
        "id": "0m85DMJPgLkM",
        "colab": {
          "base_uri": "https://localhost:8080/"
        },
        "outputId": "a1e72783-340b-4440-c8fa-a21832499f90"
      },
      "execution_count": 11,
      "outputs": [
        {
          "output_type": "stream",
          "name": "stdout",
          "text": [
            "Epoch 1/100\n",
            "56/56 [==============================] - 2s 9ms/step - loss: 1.3985 - accuracy: 0.7208 - auc: 0.7954 - val_loss: 1.0972 - val_accuracy: 0.8964 - val_auc: 0.9703\n",
            "Epoch 2/100\n",
            "56/56 [==============================] - 0s 4ms/step - loss: 1.0227 - accuracy: 0.8748 - auc: 0.9336 - val_loss: 0.7879 - val_accuracy: 0.9482 - val_auc: 0.9951\n",
            "Epoch 3/100\n",
            "56/56 [==============================] - 0s 3ms/step - loss: 0.7703 - accuracy: 0.9165 - auc: 0.9731 - val_loss: 0.5986 - val_accuracy: 0.9775 - val_auc: 0.9956\n",
            "Epoch 4/100\n",
            "56/56 [==============================] - 0s 4ms/step - loss: 0.6059 - accuracy: 0.9487 - auc: 0.9851 - val_loss: 0.4792 - val_accuracy: 0.9775 - val_auc: 0.9958\n",
            "Epoch 5/100\n",
            "56/56 [==============================] - 0s 3ms/step - loss: 0.4984 - accuracy: 0.9526 - auc: 0.9875 - val_loss: 0.3960 - val_accuracy: 0.9797 - val_auc: 0.9960\n",
            "Epoch 6/100\n",
            "56/56 [==============================] - 0s 3ms/step - loss: 0.4228 - accuracy: 0.9616 - auc: 0.9888 - val_loss: 0.3342 - val_accuracy: 0.9775 - val_auc: 0.9970\n",
            "Epoch 7/100\n",
            "56/56 [==============================] - 0s 3ms/step - loss: 0.3645 - accuracy: 0.9633 - auc: 0.9896 - val_loss: 0.2897 - val_accuracy: 0.9820 - val_auc: 0.9970\n",
            "Epoch 8/100\n",
            "56/56 [==============================] - 0s 3ms/step - loss: 0.3133 - accuracy: 0.9679 - auc: 0.9930 - val_loss: 0.2550 - val_accuracy: 0.9842 - val_auc: 0.9969\n",
            "Epoch 9/100\n",
            "56/56 [==============================] - 0s 4ms/step - loss: 0.2810 - accuracy: 0.9707 - auc: 0.9916 - val_loss: 0.2250 - val_accuracy: 0.9775 - val_auc: 0.9974\n",
            "Epoch 10/100\n",
            "56/56 [==============================] - 0s 4ms/step - loss: 0.2522 - accuracy: 0.9701 - auc: 0.9932 - val_loss: 0.2072 - val_accuracy: 0.9775 - val_auc: 0.9975\n",
            "Epoch 11/100\n",
            "56/56 [==============================] - 0s 3ms/step - loss: 0.2393 - accuracy: 0.9690 - auc: 0.9917 - val_loss: 0.1903 - val_accuracy: 0.9775 - val_auc: 0.9974\n",
            "Epoch 12/100\n",
            "56/56 [==============================] - 0s 3ms/step - loss: 0.2137 - accuracy: 0.9741 - auc: 0.9939 - val_loss: 0.1784 - val_accuracy: 0.9797 - val_auc: 0.9972\n",
            "Epoch 13/100\n",
            "56/56 [==============================] - 0s 4ms/step - loss: 0.1983 - accuracy: 0.9712 - auc: 0.9947 - val_loss: 0.1671 - val_accuracy: 0.9842 - val_auc: 0.9972\n",
            "Epoch 14/100\n",
            "56/56 [==============================] - 0s 4ms/step - loss: 0.1960 - accuracy: 0.9735 - auc: 0.9933 - val_loss: 0.1580 - val_accuracy: 0.9820 - val_auc: 0.9972\n",
            "Epoch 15/100\n",
            "56/56 [==============================] - 0s 3ms/step - loss: 0.1892 - accuracy: 0.9718 - auc: 0.9933 - val_loss: 0.1505 - val_accuracy: 0.9820 - val_auc: 0.9975\n",
            "Epoch 16/100\n",
            "56/56 [==============================] - 0s 3ms/step - loss: 0.1854 - accuracy: 0.9701 - auc: 0.9918 - val_loss: 0.1461 - val_accuracy: 0.9842 - val_auc: 0.9975\n",
            "Epoch 17/100\n",
            "56/56 [==============================] - 0s 3ms/step - loss: 0.1798 - accuracy: 0.9662 - auc: 0.9928 - val_loss: 0.1437 - val_accuracy: 0.9820 - val_auc: 0.9969\n",
            "Epoch 18/100\n",
            "56/56 [==============================] - 0s 3ms/step - loss: 0.1706 - accuracy: 0.9724 - auc: 0.9935 - val_loss: 0.1382 - val_accuracy: 0.9752 - val_auc: 0.9975\n",
            "Epoch 19/100\n",
            "56/56 [==============================] - 0s 4ms/step - loss: 0.1690 - accuracy: 0.9729 - auc: 0.9923 - val_loss: 0.1345 - val_accuracy: 0.9775 - val_auc: 0.9974\n",
            "Epoch 20/100\n",
            "56/56 [==============================] - 0s 4ms/step - loss: 0.1673 - accuracy: 0.9718 - auc: 0.9917 - val_loss: 0.1304 - val_accuracy: 0.9775 - val_auc: 0.9977\n",
            "Epoch 21/100\n",
            "56/56 [==============================] - 0s 3ms/step - loss: 0.1563 - accuracy: 0.9746 - auc: 0.9945 - val_loss: 0.1290 - val_accuracy: 0.9797 - val_auc: 0.9973\n",
            "Epoch 22/100\n",
            "56/56 [==============================] - 0s 3ms/step - loss: 0.1565 - accuracy: 0.9701 - auc: 0.9939 - val_loss: 0.1314 - val_accuracy: 0.9797 - val_auc: 0.9969\n",
            "Epoch 23/100\n",
            "56/56 [==============================] - 0s 4ms/step - loss: 0.1551 - accuracy: 0.9718 - auc: 0.9936 - val_loss: 0.1250 - val_accuracy: 0.9842 - val_auc: 0.9975\n",
            "Epoch 24/100\n",
            "56/56 [==============================] - 0s 3ms/step - loss: 0.1493 - accuracy: 0.9746 - auc: 0.9950 - val_loss: 0.1270 - val_accuracy: 0.9820 - val_auc: 0.9964\n",
            "Epoch 25/100\n",
            "56/56 [==============================] - 0s 3ms/step - loss: 0.1550 - accuracy: 0.9724 - auc: 0.9930 - val_loss: 0.1210 - val_accuracy: 0.9842 - val_auc: 0.9970\n",
            "Epoch 26/100\n",
            "56/56 [==============================] - 0s 3ms/step - loss: 0.1555 - accuracy: 0.9724 - auc: 0.9920 - val_loss: 0.1215 - val_accuracy: 0.9797 - val_auc: 0.9966\n",
            "Epoch 27/100\n",
            "56/56 [==============================] - 0s 3ms/step - loss: 0.1481 - accuracy: 0.9735 - auc: 0.9929 - val_loss: 0.1197 - val_accuracy: 0.9775 - val_auc: 0.9965\n",
            "Epoch 28/100\n",
            "56/56 [==============================] - 0s 3ms/step - loss: 0.1483 - accuracy: 0.9712 - auc: 0.9938 - val_loss: 0.1186 - val_accuracy: 0.9820 - val_auc: 0.9969\n",
            "Epoch 29/100\n",
            "56/56 [==============================] - 0s 3ms/step - loss: 0.1495 - accuracy: 0.9712 - auc: 0.9929 - val_loss: 0.1168 - val_accuracy: 0.9797 - val_auc: 0.9975\n",
            "Epoch 30/100\n",
            "56/56 [==============================] - 0s 4ms/step - loss: 0.1521 - accuracy: 0.9724 - auc: 0.9927 - val_loss: 0.1168 - val_accuracy: 0.9865 - val_auc: 0.9976\n",
            "Epoch 31/100\n",
            "56/56 [==============================] - 0s 3ms/step - loss: 0.1457 - accuracy: 0.9729 - auc: 0.9942 - val_loss: 0.1147 - val_accuracy: 0.9865 - val_auc: 0.9973\n",
            "Epoch 32/100\n",
            "56/56 [==============================] - 0s 3ms/step - loss: 0.1413 - accuracy: 0.9757 - auc: 0.9940 - val_loss: 0.1181 - val_accuracy: 0.9820 - val_auc: 0.9967\n",
            "Epoch 33/100\n",
            "56/56 [==============================] - 0s 3ms/step - loss: 0.1402 - accuracy: 0.9707 - auc: 0.9944 - val_loss: 0.1127 - val_accuracy: 0.9820 - val_auc: 0.9974\n",
            "Epoch 34/100\n",
            "56/56 [==============================] - 0s 3ms/step - loss: 0.1444 - accuracy: 0.9724 - auc: 0.9936 - val_loss: 0.1156 - val_accuracy: 0.9797 - val_auc: 0.9976\n",
            "Epoch 35/100\n",
            "56/56 [==============================] - 0s 4ms/step - loss: 0.1409 - accuracy: 0.9679 - auc: 0.9942 - val_loss: 0.1139 - val_accuracy: 0.9797 - val_auc: 0.9968\n",
            "Epoch 36/100\n",
            "56/56 [==============================] - 0s 3ms/step - loss: 0.1454 - accuracy: 0.9729 - auc: 0.9925 - val_loss: 0.1126 - val_accuracy: 0.9820 - val_auc: 0.9972\n",
            "Epoch 37/100\n",
            "56/56 [==============================] - 0s 3ms/step - loss: 0.1360 - accuracy: 0.9741 - auc: 0.9946 - val_loss: 0.1118 - val_accuracy: 0.9842 - val_auc: 0.9973\n",
            "Epoch 38/100\n",
            "56/56 [==============================] - 0s 4ms/step - loss: 0.1367 - accuracy: 0.9735 - auc: 0.9940 - val_loss: 0.1080 - val_accuracy: 0.9865 - val_auc: 0.9974\n",
            "Epoch 39/100\n",
            "56/56 [==============================] - 0s 3ms/step - loss: 0.1349 - accuracy: 0.9724 - auc: 0.9954 - val_loss: 0.1101 - val_accuracy: 0.9842 - val_auc: 0.9972\n",
            "Epoch 40/100\n",
            "56/56 [==============================] - 0s 4ms/step - loss: 0.1375 - accuracy: 0.9752 - auc: 0.9944 - val_loss: 0.1103 - val_accuracy: 0.9820 - val_auc: 0.9968\n",
            "Epoch 41/100\n",
            "56/56 [==============================] - 0s 6ms/step - loss: 0.1352 - accuracy: 0.9757 - auc: 0.9936 - val_loss: 0.1155 - val_accuracy: 0.9775 - val_auc: 0.9960\n",
            "30/30 [==============================] - 0s 3ms/step - loss: 0.1219 - accuracy: 0.9748 - auc: 0.9965\n"
          ]
        }
      ]
    },
    {
      "cell_type": "code",
      "source": [
        "print(f\"Test Loss: {test_loss}\")\n",
        "print(f\"Test Accuracy: {test_accuracy}\")\n",
        "print(f\"Test AUC: {test_auc}\")"
      ],
      "metadata": {
        "colab": {
          "base_uri": "https://localhost:8080/"
        },
        "id": "8TjdzAyQsyDY",
        "outputId": "95ec8c39-2e43-45dc-c6fe-d40040c276a7"
      },
      "execution_count": 12,
      "outputs": [
        {
          "output_type": "stream",
          "name": "stdout",
          "text": [
            "Test Loss: 0.1218612790107727\n",
            "Test Accuracy: 0.9747633934020996\n",
            "Test AUC: 0.9964995980262756\n"
          ]
        }
      ]
    },
    {
      "cell_type": "code",
      "source": [
        "plt.figure(figsize=(12, 6))\n",
        "plt.subplot(1, 2, 1)\n",
        "plt.plot(history.history['loss'])\n",
        "plt.plot(history.history['val_loss'])\n",
        "plt.title('Model Loss')\n",
        "plt.xlabel('Epoch')\n",
        "plt.ylabel('Loss')\n",
        "plt.legend(['Train', 'Validation'], loc='upper right')"
      ],
      "metadata": {
        "colab": {
          "base_uri": "https://localhost:8080/",
          "height": 581
        },
        "id": "K2cWzytktBOP",
        "outputId": "99952cac-03b4-4331-fd14-4ede9267ce1c"
      },
      "execution_count": 13,
      "outputs": [
        {
          "output_type": "execute_result",
          "data": {
            "text/plain": [
              "<matplotlib.legend.Legend at 0x7aafea217460>"
            ]
          },
          "metadata": {},
          "execution_count": 13
        },
        {
          "output_type": "display_data",
          "data": {
            "text/plain": [
              "<Figure size 1200x600 with 1 Axes>"
            ],
            "image/png": "[encoded data removed]"
          },
          "metadata": {}
        }
      ]
    },
    {
      "cell_type": "code",
      "source": [
        "plt.subplot(1, 2, 2)\n",
        "plt.plot(history.history['accuracy'])\n",
        "plt.plot(history.history['val_accuracy'])\n",
        "plt.title('Model Accuracy')\n",
        "plt.xlabel('Epoch')\n",
        "plt.ylabel('Accuracy')\n",
        "plt.legend(['Train', 'Validation'], loc='lower right')\n",
        "plt.tight_layout()\n",
        "plt.show()"
      ],
      "metadata": {
        "colab": {
          "base_uri": "https://localhost:8080/",
          "height": 487
        },
        "id": "8QlDLtantDiX",
        "outputId": "c1125c84-d335-4a64-a60c-a79bbd931c9d"
      },
      "execution_count": 14,
      "outputs": [
        {
          "output_type": "display_data",
          "data": {
            "text/plain": [
              "<Figure size 640x480 with 1 Axes>"
            ],
            "image/png": "[encoded data removed]"
          },
          "metadata": {}
        }
      ]
    },
    {
      "cell_type": "code",
      "source": [
        "random_index = np.random.randint(0, X_test.shape[0])\n",
        "random_sample = X_test[random_index].reshape(1, -1)\n",
        "predicted_label = model.predict(random_sample)\n",
        "predicted_label = (predicted_label > 0.5).astype(int)[0][0]"
      ],
      "metadata": {
        "colab": {
          "base_uri": "https://localhost:8080/"
        },
        "id": "UtgcEvVdtHzl",
        "outputId": "a8a9cb68-546e-4462-bb75-ec79aecc611b"
      },
      "execution_count": 15,
      "outputs": [
        {
          "output_type": "stream",
          "name": "stdout",
          "text": [
            "1/1 [==============================] - 0s 147ms/step\n"
          ]
        }
      ]
    },
    {
      "cell_type": "code",
      "source": [
        "predicted_label_decoded = label_encoder.inverse_transform([predicted_label])[0]"
      ],
      "metadata": {
        "id": "hdyLCL-3tLHG"
      },
      "execution_count": 16,
      "outputs": []
    },
    {
      "cell_type": "code",
      "source": [
        "actual_label = y_test.iloc[random_index]\n",
        "actual_label_decoded = label_encoder.inverse_transform([actual_label])[0]\n",
        "print(f\"Random Sample Index: {random_index}\")\n",
        "print(f\"Predicted Label: {predicted_label_decoded}\")\n",
        "print(f\"Actual Label: {actual_label_decoded}\")"
      ],
      "metadata": {
        "colab": {
          "base_uri": "https://localhost:8080/"
        },
        "id": "Oebq8PRNtOKl",
        "outputId": "2a3f6675-b7eb-4436-d392-50b14791a74b"
      },
      "execution_count": 17,
      "outputs": [
        {
          "output_type": "stream",
          "name": "stdout",
          "text": [
            "Random Sample Index: 586\n",
            "Predicted Label: male\n",
            "Actual Label: male\n"
          ]
        }
      ]
    },
    {
      "cell_type": "code",
      "source": [],
      "metadata": {
        "id": "_t_xvLlxtQ4E"
      },
      "execution_count": null,
      "outputs": []
    }
  ]
}